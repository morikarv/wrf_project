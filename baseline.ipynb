{
 "cells": [
  {
   "cell_type": "code",
   "execution_count": 1,
   "metadata": {},
   "outputs": [],
   "source": [
    "import pickle\n",
    "import numpy as np\n",
    "import pandas as pd\n",
    "import xarray as xr\n",
    "import torch\n",
    "import torch.nn as nn\n",
    "from itertools import product\n",
    "import matplotlib.pyplot as plt\n",
    "from tqdm.notebook import tqdm, trange\n",
    "from collections import defaultdict\n",
    "from IPython.display import clear_output\n",
    "import math\n",
    "import seaborn as sns"
   ]
  },
  {
   "cell_type": "markdown",
   "metadata": {},
   "source": [
    "# getting data"
   ]
  },
  {
   "cell_type": "code",
   "execution_count": 2,
   "metadata": {},
   "outputs": [],
   "source": [
    "with open('data_train_dict_torch.pkl', 'rb') as f:\n",
    "    data_train = pickle.load(f)\n",
    "\n",
    "with open('data_test_dict_torch.pkl', 'rb') as f:\n",
    "    data_test = pickle.load(f)"
   ]
  },
  {
   "cell_type": "code",
   "execution_count": 3,
   "metadata": {},
   "outputs": [],
   "source": [
    "min_channels = []\n",
    "max_channels = []\n",
    "train_dims = [100, 120, 140, 160, 180]\n",
    "for we, sn in np.random.permutation([*product(train_dims, train_dims)]):\n",
    "    min_channels.append(data_train[f'{we}x{sn}'].transpose(0, 1).reshape(15, -1).min(dim=1)[0])\n",
    "    max_channels.append(data_train[f'{we}x{sn}'].transpose(0, 1).reshape(15, -1).max(dim=1)[0])\n",
    "min_scale = torch.stack(min_channels).min(dim=0)[0]\n",
    "max_scale = torch.stack(max_channels).max(dim=0)[0]"
   ]
  },
  {
   "cell_type": "code",
   "execution_count": 4,
   "metadata": {},
   "outputs": [],
   "source": [
    "def scale_batch(batch, min_scale, max_scale):\n",
    "    min = min_scale[None,...,None, None].to(batch.device)\n",
    "    max = max_scale[None,...,None, None].to(batch.device)\n",
    "    return (batch - min) / (max - min)"
   ]
  },
  {
   "cell_type": "code",
   "execution_count": 5,
   "metadata": {},
   "outputs": [],
   "source": [
    "def iterate_minibatches(*tensors, batch_size, shuffle=True, epochs=1,\n",
    "                        allow_incomplete=True, callback=lambda x:x):\n",
    "    indices = np.arange(len(tensors[0]))\n",
    "    upper_bound = int((np.ceil if allow_incomplete else np.floor) (len(indices) / batch_size)) * batch_size\n",
    "    epoch = 0\n",
    "    while True:\n",
    "        if shuffle:\n",
    "            np.random.shuffle(indices)\n",
    "        for batch_start in callback(range(0, upper_bound, batch_size)):\n",
    "            batch_ix = indices[batch_start: batch_start + batch_size]\n",
    "            batch = [tensor[batch_ix] for tensor in tensors]\n",
    "            yield batch if len(tensors) > 1 else batch[0]\n",
    "        epoch += 1\n",
    "        if epoch >= epochs:\n",
    "            break"
   ]
  },
  {
   "cell_type": "markdown",
   "metadata": {},
   "source": [
    "# model"
   ]
  },
  {
   "cell_type": "code",
   "execution_count": 6,
   "metadata": {},
   "outputs": [],
   "source": [
    "class Autoencoder(nn.Module):\n",
    "    def __init__(self, input_channels=15):\n",
    "        super().__init__()\n",
    "        self.encoder = nn.Sequential(\n",
    "            nn.Conv2d(in_channels=input_channels, out_channels=15, kernel_size=3),\n",
    "            nn.BatchNorm2d(15),\n",
    "            nn.ReLU(),\n",
    "            nn.AdaptiveAvgPool2d(output_size=(90, 90)),\n",
    "            \n",
    "            nn.Conv2d(in_channels=15, out_channels=10, kernel_size=3),\n",
    "            nn.BatchNorm2d(10),\n",
    "            nn.ReLU(),\n",
    "            nn.MaxPool2d(kernel_size=3, stride=2),\n",
    "\n",
    "            nn.Conv2d(in_channels=10, out_channels=6, kernel_size=3),\n",
    "            nn.BatchNorm2d(6),\n",
    "            nn.ReLU(),\n",
    "            nn.MaxPool2d(kernel_size=3, stride=2),\n",
    "\n",
    "            nn.Conv2d(in_channels=6, out_channels=1, kernel_size=3),\n",
    "            nn.BatchNorm2d(1),\n",
    "            nn.ReLU(),\n",
    "            nn.MaxPool2d(kernel_size=3, stride=2),\n",
    "\n",
    "            nn.Flatten(),\n",
    "        )\n",
    "        self.encoder = self.encoder.float()\n",
    "\n",
    "        self.decoder = nn.Sequential(\n",
    "            nn.Unflatten(1, (1, 8, 8)),\n",
    "            nn.ConvTranspose2d(in_channels=1, out_channels=6, kernel_size=3),\n",
    "            nn.Upsample(size=(16, 16)),\n",
    "            nn.ConvTranspose2d(in_channels=6, out_channels=10, kernel_size=3),\n",
    "            nn.Upsample(size=(24, 24)),\n",
    "            nn.ConvTranspose2d(in_channels=10, out_channels=15, kernel_size=3),\n",
    "            nn.Upsample(size=(52, 52)),\n",
    "            nn.ConvTranspose2d(in_channels=15, out_channels=15, kernel_size=3),\n",
    "        )\n",
    "        self.decoder = self.decoder.float()\n",
    "\n",
    "    def forward(self, features):\n",
    "        emb = self.encoder(features)\n",
    "        reconstructed = self.decoder(emb)\n",
    "        _, _, w, h = features.shape\n",
    "        reconstructed = nn.Upsample(size=(w, h))(reconstructed)\n",
    "        if reconstructed.shape != features.shape:\n",
    "            print(reconstructed.shape)\n",
    "            print(features.shape)\n",
    "            assert False\n",
    "        return reconstructed"
   ]
  },
  {
   "cell_type": "code",
   "execution_count": 44,
   "metadata": {},
   "outputs": [],
   "source": [
    "device = 'cuda'\n",
    "model = Autoencoder().to(device)\n",
    "opt = torch.optim.Adam(model.parameters(), lr=1e-3)\n",
    "criterion = nn.MSELoss()"
   ]
  },
  {
   "cell_type": "code",
   "execution_count": 45,
   "metadata": {},
   "outputs": [],
   "source": [
    "losses = []\n",
    "test_loss = defaultdict(list)\n",
    "penalty = 0\n",
    "min_loss = 10"
   ]
  },
  {
   "cell_type": "code",
   "execution_count": 58,
   "metadata": {},
   "outputs": [],
   "source": [
    "def learn(penalty, min_loss, visualize=True, iterations = 100):\n",
    "    for epoch in trange(iterations):\n",
    "        tmp_losses = []\n",
    "        for we, sn in np.random.permutation([*product(train_dims, train_dims)]):\n",
    "            for batch in iterate_minibatches(data_train[f'{we}x{sn}'], batch_size=40):\n",
    "                opt.zero_grad()\n",
    "                batch = scale_batch(batch.to(device), min_scale, max_scale)\n",
    "                out = model(batch)\n",
    "                loss = criterion(out, batch)\n",
    "                loss.backward()\n",
    "                opt.step()\n",
    "                tmp_losses.append(loss.item())\n",
    "        losses.append(np.mean(tmp_losses))\n",
    "        for we, sn in [*product(train_dims, train_dims)]:\n",
    "            test_batch = scale_batch(data_test[f'{we}x{sn}'].to(device), min_scale, max_scale)\n",
    "            out = model(test_batch)\n",
    "            test_loss[f'{we}x{sn}'].append(criterion(out, test_batch).item())\n",
    "        if visualize:\n",
    "            clear_output(True)\n",
    "            plt.figure(figsize=[12, 6])\n",
    "            plt.plot(losses, label='train')\n",
    "            mse_test = np.array([np.array(test_loss[f'{we}x{sn}']) for we, sn in [*product(train_dims, train_dims)]]).mean(0)\n",
    "            plt.plot(mse_test, label='test')\n",
    "            plt.legend()\n",
    "            plt.tight_layout()\n",
    "\n",
    "            if (mse_test[-1] > min_loss) or math.isclose(mse_test[-1], min_loss, rel_tol=0.002):\n",
    "                penalty += 1\n",
    "                if penalty > 15:\n",
    "                    break\n",
    "            elif mse_test[-1] < min_loss:\n",
    "                # torch.save(model.state_dict(), 'baseline_model_weights.pth')\n",
    "                min_loss = mse_test[-1]\n",
    "                penalty = 0\n",
    "            plt.grid()\n",
    "            plt.legend()\n",
    "            plt.show()\n",
    "    return (penalty, min_loss) "
   ]
  },
  {
   "cell_type": "code",
   "execution_count": 59,
   "metadata": {},
   "outputs": [
    {
     "name": "stdout",
     "output_type": "stream",
     "text": [
      "\n"
     ]
    },
    {
     "data": {
      "image/png": "[encoded data removed]",
      "text/plain": [
       "<Figure size 1200x600 with 1 Axes>"
      ]
     },
     "metadata": {},
     "output_type": "display_data"
    }
   ],
   "source": [
    "penalty, min_loss = learn(penalty, min_loss, True, 1)"
   ]
  },
  {
   "cell_type": "code",
   "execution_count": 49,
   "metadata": {},
   "outputs": [
    {
     "name": "stdout",
     "output_type": "stream",
     "text": [
      "min_loss: 0.031894361302256584\n",
      "min_loss_val: 0.03210708200931549\n",
      "epochs_total: 83\n"
     ]
    }
   ],
   "source": [
    "print(f'min_loss: {min_loss}')\n",
    "print(f'epochs_total: {losses.__len__()}')"
   ]
  },
  {
   "cell_type": "markdown",
   "metadata": {},
   "source": [
    "# graphs"
   ]
  },
  {
   "cell_type": "code",
   "execution_count": null,
   "metadata": {},
   "outputs": [],
   "source": [
    "l_arr = np.array([np.array(test_loss[f'{we}x{sn}']) for we, sn in [*product(train_dims, train_dims)]]).mean(0)\n",
    "\n",
    "plt.subplot(2, 1, 1)\n",
    "plt.plot(np.arange(1, l_arr.shape[0] + 1), losses, color='b')\n",
    "plt.title(\"Loss\")\n",
    "plt.grid()\n",
    "plt.xlabel(\"iterations\")\n",
    "\n",
    "plt.subplot(2, 1, 2)\n",
    "plt.xlabel(\"iterations\")\n",
    "plt.plot(np.arange(1, l_arr.shape[0] + 1), l_arr, color='b')\n",
    "plt.grid()\n",
    "plt.title(\"MSE\")\n",
    "\n",
    "plt.tight_layout()\n",
    "# plt.savefig(\"baseline_mse_ans_loss\")"
   ]
  },
  {
   "cell_type": "code",
   "execution_count": null,
   "metadata": {},
   "outputs": [],
   "source": [
    "fig, axes = plt.subplots(5, 5, figsize=(20, 10), sharex=True, sharey=True)\n",
    "for i in range(5):\n",
    "    for j in range(5):\n",
    "        for we, sn in [*product(train_dims, train_dims)]:\n",
    "            axes[i, j].plot(np.arange(1, l_arr.shape[0] + 1), np.array(test_loss[f'{we}x{sn}']), color='lightgray')\n",
    "        \n",
    "        axes[i, j].plot(np.arange(1, l_arr.shape[0] + 1), np.array(test_loss[f'{train_dims[i]}x{train_dims[j]}']), color='b')\n",
    "        axes[i, j].set_title(f\"{train_dims[i]}x{train_dims[j]}\")\n",
    "fig.suptitle(\"Loss на тестовом датасете в зависимости от размера выбранного домена\", fontsize=20)\n",
    "fig.align_xlabels()\n",
    "plt.tight_layout()\n",
    "\n",
    "# plt.savefig(\"baseline_loss_sep_sizes\")"
   ]
  },
  {
   "cell_type": "code",
   "execution_count": 53,
   "metadata": {},
   "outputs": [],
   "source": [
    "arr = np.array([np.array(test_loss[f'{we}x{sn}'])[-1] for we, sn in [*product(train_dims, train_dims)]])\n",
    "arr.resize((5, 5))\n",
    "arr = arr[::-1, ::]"
   ]
  },
  {
   "cell_type": "code",
   "execution_count": null,
   "metadata": {},
   "outputs": [],
   "source": [
    "ar = pd.DataFrame(data=arr, index=train_dims[::-1], columns=train_dims)\n",
    "\n",
    "sns.heatmap(ar, annot=True, cmap=\"crest\")\n",
    "plt.title('''Loss на тренировочном датасете, полученный при минимальном значении потерь\n",
    "          при различных размерах доменов''')\n",
    "plt.xlabel(\"width\")\n",
    "plt.ylabel(\"height\")\n",
    "plt.tight_layout()\n",
    "# plt.savefig(\"baseline_heatmap\")"
   ]
  }
 ],
 "metadata": {
  "kernelspec": {
   "display_name": "base",
   "language": "python",
   "name": "python3"
  },
  "language_info": {
   "codemirror_mode": {
    "name": "ipython",
    "version": 3
   },
   "file_extension": ".py",
   "mimetype": "text/x-python",
   "name": "python",
   "nbconvert_exporter": "python",
   "pygments_lexer": "ipython3",
   "version": "3.8.5"
  }
 },
 "nbformat": 4,
 "nbformat_minor": 2
}
