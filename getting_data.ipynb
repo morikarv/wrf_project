{
 "cells": [
  {
   "cell_type": "code",
   "execution_count": null,
   "metadata": {},
   "outputs": [],
   "source": [
    "import pickle\n",
    "import numpy as np\n",
    "import xarray as xr\n",
    "import torch\n",
    "from tqdm.notebook import tqdm"
   ]
  },
  {
   "cell_type": "code",
   "execution_count": null,
   "metadata": {},
   "outputs": [],
   "source": [
    "layers = [f\"OL{i}\" for i in range(1, 5)] + [f\"OA{i}\" for i in range(1, 5)]\n",
    "layers += [\"LANDMASK\", \"HGT_M\", \"SOILTEMP\", \"SNOALB\", \"VAR\", \"CON\", \"VAR_SSO\"]\n",
    "data_train = {}\n",
    "data_test = {}\n",
    "for sn in tqdm([100, 120, 140, 160, 180]):\n",
    "    for we in [100, 120, 140, 160, 180]:\n",
    "        features = []\n",
    "        #первые 160 файлов в каждой категории относим в train\n",
    "        for idx in range(160):\n",
    "            xr_data = xr.open_dataset(f'./geogrid_runs/geo_em.{we}x{sn}.{idx}.nc')\n",
    "            domain = np.vstack([xr_data[layer].to_dataframe()[layer].values for layer in layers])\n",
    "            features.append(domain.reshape(1, len(layers), sn - 1, we - 1))\n",
    "        features = np.vstack(features)\n",
    "        data_train[f'{we}x{sn}'] = torch.tensor(features)\n",
    "\n",
    "        features = []\n",
    "        #оставшиеся 40 файлов в каждой категории относим в test\n",
    "        for idx in range(160, 200):\n",
    "            xr_data = xr.open_dataset(f'./geogrid_runs/geo_em.{we}x{sn}.{idx}.nc')\n",
    "            domain = np.vstack([xr_data[layer].to_dataframe()[layer].values for layer in layers])\n",
    "            features.append(domain.reshape(1, len(layers), sn - 1, we - 1))\n",
    "        features = np.vstack(features)\n",
    "        data_test[f'{we}x{sn}'] = torch.tensor(features)\n",
    "\n",
    "#сохранить на диск трейн и тест тензоры\n",
    "with open('data_train_dict_torch.pkl', 'wb') as f:\n",
    "    pickle.dump(data_train, f)\n",
    "\n",
    "with open('data_test_dict_torch.pkl', 'wb') as f:\n",
    "    pickle.dump(data_test, f)"
   ]
  }
 ],
 "metadata": {
  "language_info": {
   "name": "python"
  }
 },
 "nbformat": 4,
 "nbformat_minor": 2
}
